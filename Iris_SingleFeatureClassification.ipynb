{
 "cells": [
  {
   "cell_type": "markdown",
   "id": "2abd587b",
   "metadata": {},
   "source": [
    "# Can a single feature tell us what species of Iris flower we're looking at?"
   ]
  },
  {
   "cell_type": "markdown",
   "id": "381b4678",
   "metadata": {},
   "source": [
    "This project aims to find out if a single feature from the Iris dataset can be used to accurately classify flower species.\n",
    "\n",
    "We'll test each of the four features - sepal length, sepal width, petal length, and petal width.\n",
    "By building a simple model for each one, we'll see which feature is the most effective at predicting the flower's species. "
   ]
  },
  {
   "cell_type": "markdown",
   "id": "2aafca9f",
   "metadata": {},
   "source": [
    "### 1. Import packages and libraries"
   ]
  },
  {
   "cell_type": "markdown",
   "id": "5e544145",
   "metadata": {},
   "source": [
    "We import libraries like \n",
    "\n",
    "* pandas for data handling\n",
    "* seaborn/matplotlib for visualization\n",
    "* scikit-learn for ML"
   ]
  },
  {
   "cell_type": "code",
   "execution_count": 1,
   "id": "7c05b974",
   "metadata": {},
   "outputs": [],
   "source": [
    "import pandas as pd\n",
    "import matplotlib.pyplot as plt\n",
    "import seaborn as sns\n",
    "\n",
    "from sklearn.model_selection import train_test_split\n",
    "from sklearn.linear_model import LogisticRegression\n",
    "from sklearn.metrics import accuracy_score,classification_report"
   ]
  },
  {
   "cell_type": "markdown",
   "id": "671c1d49",
   "metadata": {},
   "source": [
    "### 2. Load the Dataset\n",
    "\n",
    "First, we will load the Iris dataset from csv file into a pandas DataFrame."
   ]
  },
  {
   "cell_type": "code",
   "execution_count": 2,
   "id": "bc1535c9",
   "metadata": {},
   "outputs": [],
   "source": [
    "# Load dataset into dataframe\n",
    "df=pd.read_csv('iris_dataset.csv')"
   ]
  },
  {
   "cell_type": "code",
   "execution_count": 3,
   "id": "33e3c70d",
   "metadata": {
    "scrolled": true
   },
   "outputs": [
    {
     "data": {
      "text/html": [
       "<div>\n",
       "<style scoped>\n",
       "    .dataframe tbody tr th:only-of-type {\n",
       "        vertical-align: middle;\n",
       "    }\n",
       "\n",
       "    .dataframe tbody tr th {\n",
       "        vertical-align: top;\n",
       "    }\n",
       "\n",
       "    .dataframe thead th {\n",
       "        text-align: right;\n",
       "    }\n",
       "</style>\n",
       "<table border=\"1\" class=\"dataframe\">\n",
       "  <thead>\n",
       "    <tr style=\"text-align: right;\">\n",
       "      <th></th>\n",
       "      <th>Id</th>\n",
       "      <th>SepalLengthCm</th>\n",
       "      <th>SepalWidthCm</th>\n",
       "      <th>PetalLengthCm</th>\n",
       "      <th>PetalWidthCm</th>\n",
       "      <th>Species</th>\n",
       "    </tr>\n",
       "  </thead>\n",
       "  <tbody>\n",
       "    <tr>\n",
       "      <th>0</th>\n",
       "      <td>1</td>\n",
       "      <td>5.1</td>\n",
       "      <td>3.5</td>\n",
       "      <td>1.4</td>\n",
       "      <td>0.2</td>\n",
       "      <td>Iris-setosa</td>\n",
       "    </tr>\n",
       "    <tr>\n",
       "      <th>1</th>\n",
       "      <td>2</td>\n",
       "      <td>4.9</td>\n",
       "      <td>3.0</td>\n",
       "      <td>1.4</td>\n",
       "      <td>0.2</td>\n",
       "      <td>Iris-setosa</td>\n",
       "    </tr>\n",
       "    <tr>\n",
       "      <th>2</th>\n",
       "      <td>3</td>\n",
       "      <td>4.7</td>\n",
       "      <td>3.2</td>\n",
       "      <td>1.3</td>\n",
       "      <td>0.2</td>\n",
       "      <td>Iris-setosa</td>\n",
       "    </tr>\n",
       "    <tr>\n",
       "      <th>3</th>\n",
       "      <td>4</td>\n",
       "      <td>4.6</td>\n",
       "      <td>3.1</td>\n",
       "      <td>1.5</td>\n",
       "      <td>0.2</td>\n",
       "      <td>Iris-setosa</td>\n",
       "    </tr>\n",
       "    <tr>\n",
       "      <th>4</th>\n",
       "      <td>5</td>\n",
       "      <td>5.0</td>\n",
       "      <td>3.6</td>\n",
       "      <td>1.4</td>\n",
       "      <td>0.2</td>\n",
       "      <td>Iris-setosa</td>\n",
       "    </tr>\n",
       "  </tbody>\n",
       "</table>\n",
       "</div>"
      ],
      "text/plain": [
       "   Id  SepalLengthCm  SepalWidthCm  PetalLengthCm  PetalWidthCm      Species\n",
       "0   1            5.1           3.5            1.4           0.2  Iris-setosa\n",
       "1   2            4.9           3.0            1.4           0.2  Iris-setosa\n",
       "2   3            4.7           3.2            1.3           0.2  Iris-setosa\n",
       "3   4            4.6           3.1            1.5           0.2  Iris-setosa\n",
       "4   5            5.0           3.6            1.4           0.2  Iris-setosa"
      ]
     },
     "execution_count": 3,
     "metadata": {},
     "output_type": "execute_result"
    }
   ],
   "source": [
    "# View top 5 rows of the dataset\n",
    "df.head()"
   ]
  },
  {
   "cell_type": "markdown",
   "id": "78e53678",
   "metadata": {},
   "source": [
    "### 3. Explore the dataset"
   ]
  },
  {
   "cell_type": "markdown",
   "id": "c441429c",
   "metadata": {},
   "source": [
    "Identify the number of rows and columns in the dataset"
   ]
  },
  {
   "cell_type": "code",
   "execution_count": 4,
   "id": "d5af57e9",
   "metadata": {},
   "outputs": [
    {
     "data": {
      "text/plain": [
       "(150, 6)"
      ]
     },
     "execution_count": 4,
     "metadata": {},
     "output_type": "execute_result"
    }
   ],
   "source": [
    "df.shape"
   ]
  },
  {
   "cell_type": "markdown",
   "id": "2a96ef40",
   "metadata": {},
   "source": [
    "Next, we get basic information about the dataset, including the data type of values in each column."
   ]
  },
  {
   "cell_type": "code",
   "execution_count": 5,
   "id": "eaccbcb3",
   "metadata": {
    "scrolled": false
   },
   "outputs": [
    {
     "name": "stdout",
     "output_type": "stream",
     "text": [
      "<class 'pandas.core.frame.DataFrame'>\n",
      "RangeIndex: 150 entries, 0 to 149\n",
      "Data columns (total 6 columns):\n",
      " #   Column         Non-Null Count  Dtype  \n",
      "---  ------         --------------  -----  \n",
      " 0   Id             150 non-null    int64  \n",
      " 1   SepalLengthCm  150 non-null    float64\n",
      " 2   SepalWidthCm   150 non-null    float64\n",
      " 3   PetalLengthCm  150 non-null    float64\n",
      " 4   PetalWidthCm   150 non-null    float64\n",
      " 5   Species        150 non-null    object \n",
      "dtypes: float64(4), int64(1), object(1)\n",
      "memory usage: 7.2+ KB\n"
     ]
    }
   ],
   "source": [
    "df.info()"
   ]
  },
  {
   "cell_type": "markdown",
   "id": "5857f6bc",
   "metadata": {},
   "source": [
    "#### What we understood:\n",
    "* The total number of rows is 150 and there are 6 columns.\n",
    "* There are no null values  or missing values in the dataset \n"
   ]
  },
  {
   "cell_type": "markdown",
   "id": "b4ca9d0d",
   "metadata": {},
   "source": [
    "### 4. Data Preprocessing"
   ]
  },
  {
   "cell_type": "markdown",
   "id": "1de35e7d",
   "metadata": {},
   "source": [
    "Drop the 'Id' column as it is not a feature."
   ]
  },
  {
   "cell_type": "code",
   "execution_count": 6,
   "id": "1480b497",
   "metadata": {},
   "outputs": [
    {
     "data": {
      "text/html": [
       "<div>\n",
       "<style scoped>\n",
       "    .dataframe tbody tr th:only-of-type {\n",
       "        vertical-align: middle;\n",
       "    }\n",
       "\n",
       "    .dataframe tbody tr th {\n",
       "        vertical-align: top;\n",
       "    }\n",
       "\n",
       "    .dataframe thead th {\n",
       "        text-align: right;\n",
       "    }\n",
       "</style>\n",
       "<table border=\"1\" class=\"dataframe\">\n",
       "  <thead>\n",
       "    <tr style=\"text-align: right;\">\n",
       "      <th></th>\n",
       "      <th>SepalLengthCm</th>\n",
       "      <th>SepalWidthCm</th>\n",
       "      <th>PetalLengthCm</th>\n",
       "      <th>PetalWidthCm</th>\n",
       "      <th>Species</th>\n",
       "    </tr>\n",
       "  </thead>\n",
       "  <tbody>\n",
       "    <tr>\n",
       "      <th>0</th>\n",
       "      <td>5.1</td>\n",
       "      <td>3.5</td>\n",
       "      <td>1.4</td>\n",
       "      <td>0.2</td>\n",
       "      <td>Iris-setosa</td>\n",
       "    </tr>\n",
       "    <tr>\n",
       "      <th>1</th>\n",
       "      <td>4.9</td>\n",
       "      <td>3.0</td>\n",
       "      <td>1.4</td>\n",
       "      <td>0.2</td>\n",
       "      <td>Iris-setosa</td>\n",
       "    </tr>\n",
       "    <tr>\n",
       "      <th>2</th>\n",
       "      <td>4.7</td>\n",
       "      <td>3.2</td>\n",
       "      <td>1.3</td>\n",
       "      <td>0.2</td>\n",
       "      <td>Iris-setosa</td>\n",
       "    </tr>\n",
       "    <tr>\n",
       "      <th>3</th>\n",
       "      <td>4.6</td>\n",
       "      <td>3.1</td>\n",
       "      <td>1.5</td>\n",
       "      <td>0.2</td>\n",
       "      <td>Iris-setosa</td>\n",
       "    </tr>\n",
       "    <tr>\n",
       "      <th>4</th>\n",
       "      <td>5.0</td>\n",
       "      <td>3.6</td>\n",
       "      <td>1.4</td>\n",
       "      <td>0.2</td>\n",
       "      <td>Iris-setosa</td>\n",
       "    </tr>\n",
       "  </tbody>\n",
       "</table>\n",
       "</div>"
      ],
      "text/plain": [
       "   SepalLengthCm  SepalWidthCm  PetalLengthCm  PetalWidthCm      Species\n",
       "0            5.1           3.5            1.4           0.2  Iris-setosa\n",
       "1            4.9           3.0            1.4           0.2  Iris-setosa\n",
       "2            4.7           3.2            1.3           0.2  Iris-setosa\n",
       "3            4.6           3.1            1.5           0.2  Iris-setosa\n",
       "4            5.0           3.6            1.4           0.2  Iris-setosa"
      ]
     },
     "execution_count": 6,
     "metadata": {},
     "output_type": "execute_result"
    }
   ],
   "source": [
    "df = df.drop('Id', axis=1)\n",
    "df.head()"
   ]
  },
  {
   "cell_type": "markdown",
   "id": "e86faa4c",
   "metadata": {},
   "source": [
    "Renaming columns for improved readability and clarity."
   ]
  },
  {
   "cell_type": "code",
   "execution_count": 7,
   "id": "c3826a4d",
   "metadata": {},
   "outputs": [],
   "source": [
    "df.columns = ['Sepal_Length(cm)','Sepal_Width(cm)','Petal_Length(cm)','Petal_Width(cm)','Species']"
   ]
  },
  {
   "cell_type": "markdown",
   "id": "85c80c98",
   "metadata": {},
   "source": [
    "Separate the features into X and the target (species) into y"
   ]
  },
  {
   "cell_type": "code",
   "execution_count": 8,
   "id": "fc853a36",
   "metadata": {},
   "outputs": [],
   "source": [
    "X = df.drop('Species', axis=1)\n",
    "y = df['Species']"
   ]
  },
  {
   "cell_type": "markdown",
   "id": "2a80654f",
   "metadata": {},
   "source": [
    "### 5. Exploratory Data Analysis"
   ]
  },
  {
   "cell_type": "markdown",
   "id": "ce576bfc",
   "metadata": {},
   "source": [
    "Isolating features - creates a list of column names that represent our features."
   ]
  },
  {
   "cell_type": "code",
   "execution_count": 9,
   "id": "5daad029",
   "metadata": {},
   "outputs": [],
   "source": [
    "features = X.columns.to_list()"
   ]
  },
  {
   "cell_type": "markdown",
   "id": "6a52574e",
   "metadata": {},
   "source": [
    "#### Histogram"
   ]
  },
  {
   "cell_type": "markdown",
   "id": "db092282",
   "metadata": {},
   "source": [
    "For each feature, we'll create a histogram that shows how the measurements are distributed for each species.\n",
    "\n",
    "We'll be looking for a feature where the species' data is clearly separated with minimal overlap. "
   ]
  },
  {
   "cell_type": "code",
   "execution_count": 10,
   "id": "98021621",
   "metadata": {},
   "outputs": [
    {
     "name": "stdout",
     "output_type": "stream",
     "text": [
      "Generating Histograms for each feature, colored by species...\n"
     ]
    },
    {
     "data": {
      "image/png": "[encoded data removed]",
      "text/plain": [
       "<Figure size 720x432 with 1 Axes>"
      ]
     },
     "metadata": {
      "needs_background": "light"
     },
     "output_type": "display_data"
    },
    {
     "data": {
      "image/png": "[encoded data removed]",
      "text/plain": [
       "<Figure size 720x432 with 1 Axes>"
      ]
     },
     "metadata": {
      "needs_background": "light"
     },
     "output_type": "display_data"
    },
    {
     "data": {
      "image/png": "[encoded data removed]",
      "text/plain": [
       "<Figure size 720x432 with 1 Axes>"
      ]
     },
     "metadata": {
      "needs_background": "light"
     },
     "output_type": "display_data"
    },
    {
     "data": {
      "image/png": "[encoded data removed]",
      "text/plain": [
       "<Figure size 720x432 with 1 Axes>"
      ]
     },
     "metadata": {
      "needs_background": "light"
     },
     "output_type": "display_data"
    }
   ],
   "source": [
    "print(\"Generating Histograms for each feature, colored by species...\")\n",
    "for feature in features:\n",
    "    plt.figure(figsize=(10, 6))\n",
    "    sns.histplot(data=df, x=feature, hue=\"Species\", multiple=\"stack\", palette=\"tab10\")\n",
    "    plt.title(f'Distribution of {feature.title()} by Species')\n",
    "    plt.xlabel(feature)\n",
    "    plt.ylabel('Count')\n",
    "    plt.show()"
   ]
  },
  {
   "cell_type": "markdown",
   "id": "13e918d3",
   "metadata": {},
   "source": [
    "The histograms show that Petal Length and Petal Width have distinct, non-overlapping distributions for the different species. Sepal measurements, however, have significant overlap.\n",
    "\n",
    "This suggests that petal features are better at separating the species."
   ]
  },
  {
   "cell_type": "markdown",
   "id": "f11844e4",
   "metadata": {},
   "source": [
    "#### Box plot "
   ]
  },
  {
   "cell_type": "markdown",
   "id": "7e64e5fd",
   "metadata": {},
   "source": [
    "For each feature, we'll create a boxplot that shows how the measurements are distributed for each species."
   ]
  },
  {
   "cell_type": "code",
   "execution_count": 11,
   "id": "a7f27c6a",
   "metadata": {},
   "outputs": [
    {
     "name": "stdout",
     "output_type": "stream",
     "text": [
      "Generating Box Plots for each feature, grouped by species...\n"
     ]
    },
    {
     "data": {
      "image/png": "[encoded data removed]",
      "text/plain": [
       "<Figure size 720x432 with 1 Axes>"
      ]
     },
     "metadata": {
      "needs_background": "light"
     },
     "output_type": "display_data"
    },
    {
     "data": {
      "image/png": "[encoded data removed]",
      "text/plain": [
       "<Figure size 720x432 with 1 Axes>"
      ]
     },
     "metadata": {
      "needs_background": "light"
     },
     "output_type": "display_data"
    },
    {
     "data": {
      "image/png": "[encoded data removed]",
      "text/plain": [
       "<Figure size 720x432 with 1 Axes>"
      ]
     },
     "metadata": {
      "needs_background": "light"
     },
     "output_type": "display_data"
    },
    {
     "data": {
      "image/png": "[encoded data removed]",
      "text/plain": [
       "<Figure size 720x432 with 1 Axes>"
      ]
     },
     "metadata": {
      "needs_background": "light"
     },
     "output_type": "display_data"
    }
   ],
   "source": [
    "print(\"Generating Box Plots for each feature, grouped by species...\")\n",
    "for feature in features:\n",
    "    plt.figure(figsize=(10, 6))\n",
    "    sns.boxplot(data=df, x=\"Species\", y=feature, palette=\"viridis\")\n",
    "    plt.title(f'Box Plot of {feature.title()} by Species')\n",
    "    plt.xlabel('Species')\n",
    "    plt.ylabel(feature)\n",
    "    plt.show()"
   ]
  },
  {
   "cell_type": "markdown",
   "id": "cccdee26",
   "metadata": {},
   "source": [
    "The box plots confirm the histogram findings.\n",
    "\n",
    "The boxes for Petal Length and Petal Width are well-separated with almost no overlap between species. In contrast, the box plots for the sepal measurements are heavily overlapping, indicating these features are poor individual predictors."
   ]
  },
  {
   "cell_type": "markdown",
   "id": "8a710ba9",
   "metadata": {},
   "source": [
    "#### What we understood:\n",
    "Petal Length  and Petal Width  are the most effective features for classifying Iris species.\n",
    "The plots involving these features show the least amount of overlap between species and the most distinct separation, particularly for the Iris setosa species. "
   ]
  },
  {
   "cell_type": "markdown",
   "id": "68e018ba",
   "metadata": {},
   "source": [
    "### 6.Train and Evaluate a Model"
   ]
  },
  {
   "cell_type": "markdown",
   "id": "791085ec",
   "metadata": {},
   "source": [
    "For each single feature, we'll train a Logistic regression model to classify the species. \n",
    "\n",
    "We'll then evaluate the model's performance by calculating its accuracy, which will give us a numerical score to compare each feature's effectiveness."
   ]
  },
  {
   "cell_type": "code",
   "execution_count": 12,
   "id": "9b4cb992",
   "metadata": {},
   "outputs": [],
   "source": [
    "X_train, X_test, y_train, y_test = train_test_split(X, y, test_size=0.25, random_state=42, stratify=y) "
   ]
  },
  {
   "cell_type": "code",
   "execution_count": 13,
   "id": "d9be3371",
   "metadata": {},
   "outputs": [
    {
     "name": "stdout",
     "output_type": "stream",
     "text": [
      "\n",
      "Training and Evaluating Model for Each Single Feature\n",
      "Accuracy for Sepal_Length(cm) : 0.6579\n",
      "Accuracy for Sepal_Width(cm) : 0.6053\n",
      "Accuracy for Petal_Length(cm) : 0.9211\n",
      "Accuracy for Petal_Width(cm) : 0.9474\n"
     ]
    }
   ],
   "source": [
    "feature_accuracies = {}\n",
    "print(\"\\nTraining and Evaluating Model for Each Single Feature\")\n",
    "for feature in features:\n",
    "    \n",
    "    # Isolate the current feature for training and testing\n",
    "    X_train_single = X_train[[feature]]\n",
    "    X_test_single = X_test[[feature]]\n",
    "    \n",
    "    # Create and train the Logistic Regression model\n",
    "    model = LogisticRegression(max_iter=200, random_state=42)\n",
    "    model.fit(X_train_single, y_train)\n",
    "    \n",
    "    # Use the trained model to make predictions on the test data\n",
    "    y_pred = model.predict(X_test_single)\n",
    "    \n",
    "    # Calculate the accuracy score and store it\n",
    "    accuracy = accuracy_score(y_test, y_pred)\n",
    "    feature_accuracies[feature] = accuracy\n",
    "    \n",
    "    print(f\"Accuracy for {feature} : {accuracy:.4f}\")\n",
    "    "
   ]
  },
  {
   "cell_type": "markdown",
   "id": "a0c8a1f1",
   "metadata": {},
   "source": [
    "### 7. Results "
   ]
  },
  {
   "cell_type": "markdown",
   "id": "fe33e9a9",
   "metadata": {},
   "source": [
    " Now we'll look at all the results together to find the best-performing feature."
   ]
  },
  {
   "cell_type": "code",
   "execution_count": 14,
   "id": "f6004382",
   "metadata": {},
   "outputs": [
    {
     "name": "stdout",
     "output_type": "stream",
     "text": [
      "\n",
      " Results: \n",
      "            Feature  Accuracy\n",
      "3   Petal_Width(cm)  0.947368\n",
      "2  Petal_Length(cm)  0.921053\n",
      "0  Sepal_Length(cm)  0.657895\n",
      "1   Sepal_Width(cm)  0.605263\n"
     ]
    },
    {
     "data": {
      "image/png": "[encoded data removed]",
      "text/plain": [
       "<Figure size 720x432 with 1 Axes>"
      ]
     },
     "metadata": {
      "needs_background": "light"
     },
     "output_type": "display_data"
    }
   ],
   "source": [
    "# Convert our dictionary of results into a clean table\n",
    "results_df = pd.DataFrame({'Feature': feature_accuracies.keys(), 'Accuracy': feature_accuracies.values()}).sort_values(by='Accuracy', ascending=False)\n",
    "\n",
    "print(\"\\n Results: \")\n",
    "print(results_df)\n",
    "\n",
    "# Let's visualize the results with a bar plot to make the comparison easy to see.\n",
    "plt.figure(figsize=(10, 6))\n",
    "sns.barplot(x='Accuracy', y='Feature', data=results_df, palette='viridis')\n",
    "plt.title('Accuracy of Single Features for Iris Species Classification', fontsize=16)\n",
    "plt.xlabel('Accuracy Score', fontsize=12)\n",
    "plt.ylabel('Feature', fontsize=12)\n",
    "plt.xlim(0.5, 1.0) \n",
    "plt.show()"
   ]
  },
  {
   "cell_type": "markdown",
   "id": "031d9f60",
   "metadata": {},
   "source": [
    "### 8. Conclusion"
   ]
  },
  {
   "cell_type": "code",
   "execution_count": 15,
   "id": "5e4f748f",
   "metadata": {
    "scrolled": true
   },
   "outputs": [
    {
     "name": "stdout",
     "output_type": "stream",
     "text": [
      "'Petal_Width(cm)' is the most effective single feature for classifying Iris species, achieving an accuracy of 94.74%.\n"
     ]
    }
   ],
   "source": [
    "best_feature = results_df.iloc[0]['Feature']\n",
    "best_accuracy = results_df.iloc[0]['Accuracy']\n",
    "\n",
    "print(f\"'{best_feature}' is the most effective single feature for classifying Iris species, achieving an accuracy of {best_accuracy:.2%}.\")"
   ]
  },
  {
   "cell_type": "markdown",
   "id": "40e5a878",
   "metadata": {},
   "source": [
    "#### The analysis confirms that a single feature can effectively classify Iris flower species.\n",
    "Based on our model training and evaluation, the most effective feature was Petal Width, which achieved a classification accuracy of 94%."
   ]
  },
  {
   "cell_type": "markdown",
   "id": "1f123003",
   "metadata": {},
   "source": [
    "### 9. What's Next?"
   ]
  },
  {
   "cell_type": "markdown",
   "id": "90a21fd1",
   "metadata": {},
   "source": [
    "* Try different simple models, like a Decision Tree, to see if the results are consistent.\n",
    "* Explore the predictive power of feature combinations (eg: Petal Length + Petal Width)"
   ]
  }
 ],
 "metadata": {
  "kernelspec": {
   "display_name": "Python 3 (ipykernel)",
   "language": "python",
   "name": "python3"
  },
  "language_info": {
   "codemirror_mode": {
    "name": "ipython",
    "version": 3
   },
   "file_extension": ".py",
   "mimetype": "text/x-python",
   "name": "python",
   "nbconvert_exporter": "python",
   "pygments_lexer": "ipython3",
   "version": "3.9.7"
  }
 },
 "nbformat": 4,
 "nbformat_minor": 5
}
